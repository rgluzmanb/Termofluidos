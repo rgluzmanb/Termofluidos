{
 "cells": [
  {
   "cell_type": "markdown",
   "metadata": {},
   "source": [
    "Importar las librerias"
   ]
  },
  {
   "cell_type": "code",
   "execution_count": 1,
   "metadata": {},
   "outputs": [],
   "source": [
    "# Numpy\n",
    "import numpy as np\n",
    "\n",
    "# CoolProop\n",
    "import CoolProp as cp\n",
    "\n",
    "# MatPlotLib\n",
    "import matplotlib as mpl\n",
    "\n",
    "# Fluids\n",
    "import fluids as fl\n"
   ]
  },
  {
   "cell_type": "markdown",
   "metadata": {},
   "source": [
    "## Pregunta 3\n",
    "Realizandola conservación de la energía se tiene que las pérdidas por fricción deben ser iguales al trabajo realizado por la bomba, es decir,\n",
    "$$ L_f = \\frac{1}{2} f \\rho \\frac{L}{D} V^2 = \\Delta P_{\\text{pump}}, $$\n",
    "Escribiendo al velocidad en función del caudal $V=4 \\dot{\\forall}/ \\pi D^2$ y despejando el diametro se tiene la siguiente expresión\n",
    "$$ D^5 = \\frac{8 f \\rho L \\dot{\\forall}^2}{\\pi^2 \\Delta P_{\\text{pump}}}. $$\n",
    "\n",
    "A continuación se definen los parámetros a utilizar y se obtiene el diámetro"
   ]
  },
  {
   "cell_type": "code",
   "execution_count": 2,
   "metadata": {},
   "outputs": [],
   "source": [
    "# Datos del problema\n",
    "\n",
    "T=20+273.15 # Temperatura en Kelvin\n",
    "fluido='ethanol' # Fluido de trabajo\n",
    "L=3*1000 # Largo de la tubería en metros\n",
    "V_dot=40/1000 # Caudal en m^3/s\n",
    "Pump=200*1000 # Presión de la bomba en Pa\n",
    "\n",
    "# Propiedades del fluido y flujo \n",
    "rho=cp."
   ]
  }
 ],
 "metadata": {
  "kernelspec": {
   "display_name": "Python 3",
   "language": "python",
   "name": "python3"
  },
  "language_info": {
   "codemirror_mode": {
    "name": "ipython",
    "version": 3
   },
   "file_extension": ".py",
   "mimetype": "text/x-python",
   "name": "python",
   "nbconvert_exporter": "python",
   "pygments_lexer": "ipython3",
   "version": "3.8.10"
  }
 },
 "nbformat": 4,
 "nbformat_minor": 2
}
